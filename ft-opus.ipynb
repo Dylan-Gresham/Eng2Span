{
 "cells": [
  {
   "cell_type": "code",
   "execution_count": 1,
   "id": "dbfcebbe7f6d4b5f",
   "metadata": {
    "ExecuteTime": {
     "end_time": "2025-03-27T03:00:14.991936Z",
     "start_time": "2025-03-27T03:00:12.702877Z"
    }
   },
   "outputs": [
    {
     "name": "stdout",
     "output_type": "stream",
     "text": [
      "WARNING:tensorflow:From C:\\Users\\steal\\AppData\\Roaming\\Python\\Python312\\site-packages\\tf_keras\\src\\losses.py:2976: The name tf.losses.sparse_softmax_cross_entropy is deprecated. Please use tf.compat.v1.losses.sparse_softmax_cross_entropy instead.\n",
      "\n"
     ]
    }
   ],
   "source": [
    "import evaluate\n",
    "import accelerate\n",
    "import numpy as np\n",
    "import pandas as pd\n",
    "from transformers import (\n",
    "    AutoModelForSeq2SeqLM,\n",
    "    AutoTokenizer,\n",
    "    DataCollatorForSeq2Seq,\n",
    "    Seq2SeqTrainer,\n",
    "    Seq2SeqTrainingArguments,\n",
    ")\n",
    "\n",
    "MODEL_REPO = \"Helsinki-NLP/opus-mt-en-es\"\n",
    "# PREFIX = \"translate English to Spanish: \""
   ]
  },
  {
   "cell_type": "code",
   "execution_count": 2,
   "id": "c2cab891426cb4cd",
   "metadata": {
    "ExecuteTime": {
     "end_time": "2025-03-27T03:00:23.142113Z",
     "start_time": "2025-03-27T03:00:14.994793Z"
    }
   },
   "outputs": [
    {
     "name": "stderr",
     "output_type": "stream",
     "text": [
      "[nltk_data] Downloading package wordnet to\n",
      "[nltk_data]     C:\\Users\\steal\\AppData\\Roaming\\nltk_data...\n",
      "[nltk_data]   Package wordnet is already up-to-date!\n",
      "[nltk_data] Downloading package punkt_tab to\n",
      "[nltk_data]     C:\\Users\\steal\\AppData\\Roaming\\nltk_data...\n",
      "[nltk_data]   Package punkt_tab is already up-to-date!\n",
      "[nltk_data] Downloading package omw-1.4 to\n",
      "[nltk_data]     C:\\Users\\steal\\AppData\\Roaming\\nltk_data...\n",
      "[nltk_data]   Package omw-1.4 is already up-to-date!\n"
     ]
    }
   ],
   "source": [
    "accuracy = evaluate.load(\"accuracy\")\n",
    "bleu = evaluate.load(\"bleu\")\n",
    "rouge = evaluate.load(\"rouge\")\n",
    "meteor = evaluate.load(\"meteor\")\n",
    "ter = evaluate.load(\"ter\")\n",
    "METRICS = [\n",
    "    (\"Accuracy\", accuracy),\n",
    "    (\"BLEU\", bleu),\n",
    "    (\"ROUGE\", rouge),\n",
    "    (\"METEOR\", meteor),\n",
    "    (\"TER\", ter),\n",
    "]"
   ]
  },
  {
   "cell_type": "code",
   "execution_count": 3,
   "id": "51f5243f9a54be83",
   "metadata": {
    "ExecuteTime": {
     "end_time": "2025-03-27T03:00:23.685013Z",
     "start_time": "2025-03-27T03:00:23.197536Z"
    }
   },
   "outputs": [],
   "source": [
    "data = pd.read_csv(\"./data/combined.data\")\n",
    "train = data.loc[data[\"split\"] != \"test\"]\n",
    "test = data.loc[data[\"split\"] == \"test\"]"
   ]
  },
  {
   "cell_type": "code",
   "execution_count": 4,
   "id": "c7be4ef2a82ce4c6",
   "metadata": {
    "ExecuteTime": {
     "end_time": "2025-03-27T03:00:25.354261Z",
     "start_time": "2025-03-27T03:00:23.691273Z"
    }
   },
   "outputs": [],
   "source": [
    "tokenizer = AutoTokenizer.from_pretrained(MODEL_REPO)"
   ]
  },
  {
   "cell_type": "code",
   "execution_count": 5,
   "id": "efd8f4df08565450",
   "metadata": {
    "ExecuteTime": {
     "end_time": "2025-03-27T03:00:25.380252Z",
     "start_time": "2025-03-27T03:00:25.378378Z"
    }
   },
   "outputs": [],
   "source": [
    "def preprocess_text(sample):\n",
    "    input = str(sample[0])#PREFIX + str(sample[0])\n",
    "    target = str(sample[1])\n",
    "    return tokenizer(input, text_target=target, max_length=128, truncation=True)\n",
    "\n",
    "\n",
    "def postprocess_text(preds, labels):\n",
    "    preds = [pred.strip() for pred in preds]\n",
    "    labels = [[label.strip()] for label in labels]\n",
    "\n",
    "    return preds, labels"
   ]
  },
  {
   "cell_type": "code",
   "execution_count": 6,
   "id": "9611f173f2e146f5",
   "metadata": {
    "ExecuteTime": {
     "end_time": "2025-03-27T03:01:10.523431Z",
     "start_time": "2025-03-27T03:00:25.420486Z"
    }
   },
   "outputs": [],
   "source": [
    "tokenized_train_data = [\n",
    "    preprocess_text((row[\"en\"], row[\"es\"])) for _, row in train.iterrows()\n",
    "]\n",
    "tokenized_test_data = [\n",
    "    preprocess_text((row[\"en\"], row[\"es\"])) for _, row in test.iterrows()\n",
    "]"
   ]
  },
  {
   "cell_type": "code",
   "execution_count": 7,
   "id": "e6a21678f8832861",
   "metadata": {
    "ExecuteTime": {
     "end_time": "2025-03-27T03:01:10.552460Z",
     "start_time": "2025-03-27T03:01:10.551072Z"
    }
   },
   "outputs": [],
   "source": [
    "data_collator = DataCollatorForSeq2Seq(\n",
    "    tokenizer=tokenizer, model=MODEL_REPO, return_tensors=\"pt\"\n",
    ")"
   ]
  },
  {
   "cell_type": "code",
   "execution_count": 8,
   "id": "70760c2bd49805eb",
   "metadata": {
    "ExecuteTime": {
     "end_time": "2025-03-27T03:01:10.595262Z",
     "start_time": "2025-03-27T03:01:10.592858Z"
    }
   },
   "outputs": [],
   "source": [
    "def compute_metrics(eval_preds):\n",
    "    preds, labels = eval_preds\n",
    "    if isinstance(preds, tuple):\n",
    "        preds = preds[0]\n",
    "\n",
    "    decoded_preds = tokenizer.batch_decode(preds, skip_special_tokens=True)\n",
    "\n",
    "    labels = np.where(labels != -100, labels, tokenizer.pad_token_id)\n",
    "    decoded_labels = tokenizer.batch_decode(labels, skip_special_tokens=True)\n",
    "\n",
    "    decoded_preds, decoded_labels = postprocess_text(decoded_preds, decoded_labels)\n",
    "\n",
    "    result = {}\n",
    "    for name, metric in METRICS:\n",
    "        result = metric.compute(predictions=decoded_preds, references=decoded_labels)\n",
    "        result = {name: result[\"score\"]}\n",
    "\n",
    "    prediction_lens = [\n",
    "        np.count_nonzero(pred != tokenizer.pad_token_id) for pred in preds\n",
    "    ]\n",
    "    result[\"gen_len\"] = np.mean(prediction_lens)\n",
    "    result = {k: round(v, 4) for k, v in result.items()}\n",
    "\n",
    "    return result"
   ]
  },
  {
   "cell_type": "code",
   "execution_count": 9,
   "id": "ee889bfdcfdd7471",
   "metadata": {
    "ExecuteTime": {
     "end_time": "2025-03-27T03:01:12.024663Z",
     "start_time": "2025-03-27T03:01:10.638294Z"
    }
   },
   "outputs": [],
   "source": [
    "model = AutoModelForSeq2SeqLM.from_pretrained(MODEL_REPO)\n",
    "\n",
    "training_args = Seq2SeqTrainingArguments(\n",
    "    output_dir=\"opus\",\n",
    "    eval_strategy=\"epoch\",\n",
    "    learning_rate=2e-5,\n",
    "    per_device_train_batch_size=32,\n",
    "    per_device_eval_batch_size=32,\n",
    "    weight_decay=0.01,\n",
    "    save_total_limit=3,\n",
    "    num_train_epochs=3,\n",
    "    predict_with_generate=True,\n",
    "    fp16=True,\n",
    "    push_to_hub=False,\n",
    ")\n",
    "\n",
    "trainer = Seq2SeqTrainer(\n",
    "    model=model,\n",
    "    args=training_args,\n",
    "    train_dataset=tokenized_train_data,\n",
    "    eval_dataset=tokenized_test_data,\n",
    "    processing_class=tokenizer,\n",
    "    data_collator=data_collator,\n",
    "    compute_metrics=compute_metrics,\n",
    ")"
   ]
  },
  {
   "cell_type": "code",
   "execution_count": 10,
   "id": "e0997fe803090aaf",
   "metadata": {
    "ExecuteTime": {
     "start_time": "2025-03-27T03:01:12.051334Z"
    },
    "jupyter": {
     "is_executing": true
    }
   },
   "outputs": [
    {
     "data": {
      "text/html": [
       "\n",
       "    <div>\n",
       "      \n",
       "      <progress value='14' max='29805' style='width:300px; height:20px; vertical-align: middle;'></progress>\n",
       "      [   14/29805 01:26 < 59:19:36, 0.14 it/s, Epoch 0.00/3]\n",
       "    </div>\n",
       "    <table border=\"1\" class=\"dataframe\">\n",
       "  <thead>\n",
       " <tr style=\"text-align: left;\">\n",
       "      <th>Epoch</th>\n",
       "      <th>Training Loss</th>\n",
       "      <th>Validation Loss</th>\n",
       "    </tr>\n",
       "  </thead>\n",
       "  <tbody>\n",
       "  </tbody>\n",
       "</table><p>"
      ],
      "text/plain": [
       "<IPython.core.display.HTML object>"
      ]
     },
     "metadata": {},
     "output_type": "display_data"
    },
    {
     "name": "stderr",
     "output_type": "stream",
     "text": [
      "\n",
      "KeyboardInterrupt\n",
      "\n"
     ]
    }
   ],
   "source": [
    "trainer.train()"
   ]
  },
  {
   "cell_type": "code",
   "execution_count": null,
   "id": "b52c8208215998dd",
   "metadata": {},
   "outputs": [],
   "source": [
    "trainer.save_model(\"opus\")"
   ]
  },
  {
   "cell_type": "code",
   "execution_count": null,
   "id": "257fc6fa79e75db",
   "metadata": {},
   "outputs": [],
   "source": [
    "# import torch\n",
    "# import gc\n",
    "\n",
    "# gc.collect()\n",
    "# torch.cuda.empty_cache()"
   ]
  }
 ],
 "metadata": {
  "kernelspec": {
   "display_name": "Python 3 (ipykernel)",
   "language": "python",
   "name": "python3"
  },
  "language_info": {
   "codemirror_mode": {
    "name": "ipython",
    "version": 3
   },
   "file_extension": ".py",
   "mimetype": "text/x-python",
   "name": "python",
   "nbconvert_exporter": "python",
   "pygments_lexer": "ipython3",
   "version": "3.12.9"
  }
 },
 "nbformat": 4,
 "nbformat_minor": 9
}
