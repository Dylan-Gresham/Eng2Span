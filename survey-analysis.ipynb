{
 "cells": [
  {
   "metadata": {},
   "cell_type": "markdown",
   "source": "# Survey Analyis",
   "id": "25a368388357fe8e"
  },
  {
   "cell_type": "code",
   "id": "initial_id",
   "metadata": {
    "collapsed": true,
    "ExecuteTime": {
     "end_time": "2025-04-29T03:40:46.970749Z",
     "start_time": "2025-04-29T03:40:46.695723Z"
    }
   },
   "source": "import pandas as pd",
   "outputs": [],
   "execution_count": 1
  },
  {
   "metadata": {
    "ExecuteTime": {
     "end_time": "2025-04-29T03:40:47.047155Z",
     "start_time": "2025-04-29T03:40:47.045036Z"
    }
   },
   "cell_type": "code",
   "source": [
    "q1 = pd.DataFrame({\n",
    "    'Spanish Word': [\"¡Hola,\", \"mundo!\"],\n",
    "    'Mean Score': [9.71, 9.0],\n",
    "    'Model Score': [10.0, 9.83],\n",
    "})"
   ],
   "id": "3ea601a29fd5264",
   "outputs": [],
   "execution_count": 2
  },
  {
   "metadata": {
    "ExecuteTime": {
     "end_time": "2025-04-29T03:40:47.111212Z",
     "start_time": "2025-04-29T03:40:47.109093Z"
    }
   },
   "cell_type": "code",
   "source": [
    "q2 = pd.DataFrame({\n",
    "    'Spanish Word': [\"Hey\", \"¿cómo\", \"va?\"],\n",
    "    'Mean Score': [3.57, 9.57, 9.14],\n",
    "    'Model Score': [10.0, 10.0, 10.0]\n",
    "})"
   ],
   "id": "fda2526b1a5a1f84",
   "outputs": [],
   "execution_count": 3
  },
  {
   "metadata": {
    "ExecuteTime": {
     "end_time": "2025-04-29T03:40:47.162466Z",
     "start_time": "2025-04-29T03:40:47.158415Z"
    }
   },
   "cell_type": "code",
   "source": [
    "q3 = pd.DataFrame({\n",
    "    'Spanish Word': [\"¿Qué\", \"estás\", \"haciendo\", \"esta\", \"noche?\"],\n",
    "    'Mean Score': [9.57, 8.57, 8.86, 9.14, 9.43],\n",
    "    'Model Score': [10.0, 10.0, 10.0, 10.0, 10.0]\n",
    "})"
   ],
   "id": "6a738201ae927744",
   "outputs": [],
   "execution_count": 4
  },
  {
   "metadata": {
    "ExecuteTime": {
     "end_time": "2025-04-29T03:40:47.209290Z",
     "start_time": "2025-04-29T03:40:47.207075Z"
    }
   },
   "cell_type": "code",
   "source": [
    "q4 = pd.DataFrame({\n",
    "    'Spanish Word': [\"Tu\", \"perro\", \"es\", \"guapo\", \"¿cómo\", \"se\", \"llama?\"],\n",
    "    'Mean Score': [9.29, 9.43, 9.86, 6.86, 8.71, 9.0, 7.43],\n",
    "    'Model Score': [10.0, 10.0, 10.0, 10.0, 9.93, 10.0, 9.93]\n",
    "})"
   ],
   "id": "8f37eb105c65f198",
   "outputs": [],
   "execution_count": 5
  },
  {
   "metadata": {
    "ExecuteTime": {
     "end_time": "2025-04-29T03:40:47.276308Z",
     "start_time": "2025-04-29T03:40:47.271603Z"
    }
   },
   "cell_type": "code",
   "source": [
    "q5 = pd.DataFrame({\n",
    "    'Spanish Word': [\"Bebe\", \"siempre\", \"café\", \"por\", \"la\", \"mañana\", \"para\", \"no\", \"cansare\", \"durante\", \"el\", \"día.\"],\n",
    "    'Mean Score': [7.29, 8.86, 8.14, 8.71, 8.86, 8.86, 8.57, 7.14, 8.43, 9.14, 9.43, 9.86],\n",
    "    'Model Score': [10.0, 10.0, 8.98, 10.0, 9.99, 10.0, 10.0, 9.99, 10.0, 10.0, 9.96, 10.0]\n",
    "})"
   ],
   "id": "50bd209da9407b1c",
   "outputs": [],
   "execution_count": 6
  },
  {
   "metadata": {
    "ExecuteTime": {
     "end_time": "2025-04-29T03:40:47.333890Z",
     "start_time": "2025-04-29T03:40:47.330893Z"
    }
   },
   "cell_type": "code",
   "source": [
    "q6 = pd.DataFrame({\n",
    "    'Spanish Word': [\"No\", \"sabemos\", \"muy\", \"bien\", \"español\", \"¡gracias\", \"por\", \"tu\", \"ayuda!\"],\n",
    "    'Mean Score': [9.57, 8.71, 8.29, 9.0, 9.57, 9.14, 9.57, 8.43, 9.57],\n",
    "    'Model Score': [10.0, 10.0, 10.0, 9.74, 10.0, 9.96, 10.0, 10.0, 10.0]\n",
    "})"
   ],
   "id": "c49b6cec1ba0b0c3",
   "outputs": [],
   "execution_count": 7
  },
  {
   "metadata": {
    "ExecuteTime": {
     "end_time": "2025-04-29T03:40:47.395733Z",
     "start_time": "2025-04-29T03:40:47.392540Z"
    }
   },
   "cell_type": "code",
   "source": [
    "q7 = pd.DataFrame({\n",
    "    'Spanish Word': [\"Estoy\", \"reservando\", \"una\", \"hora\", \"de\", \"té\", \"para\", \"este\", \"fin\", \"de\", \"semana.\"],\n",
    "    'Mean Score': [9.71, 9.57, 9.14, 5.86, 8.43, 8.86, 8.86, 9.43, 9.71, 8.43, 9.14],\n",
    "    'Model Score': [10.0, 10.0, 10.0, 9.92, 9.99, 10.0, 10.0, 10.0, 9.98, 10.0, 10.0]\n",
    "})"
   ],
   "id": "f76e9779cf5af66d",
   "outputs": [],
   "execution_count": 8
  },
  {
   "metadata": {
    "ExecuteTime": {
     "end_time": "2025-04-29T03:40:47.461514Z",
     "start_time": "2025-04-29T03:40:47.458867Z"
    }
   },
   "cell_type": "code",
   "source": [
    "q8 = pd.DataFrame({\n",
    "    'Spanish Word': [\"Ella\", \"vio\", \"al\", \"hombre\", \"con\", \"el\", \"anteojo.\"],\n",
    "    'Mean Score': [9.0, 8.43, 8.14, 7.86, 9.0, 6.43, 2.43],\n",
    "    'Model Score': [10.0, 10.0, 10.0, 10.0, 10.0, 10.0, 10.0]\n",
    "})"
   ],
   "id": "a99686d970021b36",
   "outputs": [],
   "execution_count": 9
  },
  {
   "metadata": {
    "ExecuteTime": {
     "end_time": "2025-04-29T03:40:47.521169Z",
     "start_time": "2025-04-29T03:40:47.518815Z"
    }
   },
   "cell_type": "code",
   "source": [
    "q9 = pd.DataFrame({\n",
    "    'Spanish Word': [\"Eso\", \"es\", \"repugnante\", \"bro.\"],\n",
    "    'Mean Score': [9.0, 9.43, 7.86, 7.86],\n",
    "    'Model Score': [10.0, 10.0, 9.51, 8.77]\n",
    "})"
   ],
   "id": "d0a5b38ede0a8a46",
   "outputs": [],
   "execution_count": 10
  },
  {
   "metadata": {
    "ExecuteTime": {
     "end_time": "2025-04-29T03:40:47.591105Z",
     "start_time": "2025-04-29T03:40:47.587362Z"
    }
   },
   "cell_type": "code",
   "source": [
    "q10 = pd.DataFrame({\n",
    "    'Spanish Word': [\"Que\", \"la\", \"fuerza\", \"esté\", \"contigo.\"],\n",
    "    'Mean Score': [9.29, 8.43, 9.71, 9.71, 9.43],\n",
    "    'Model Score': [10.0, 9.98, 9.95, 10.0, 10.0]\n",
    "})"
   ],
   "id": "ac5d09337bf05eb2",
   "outputs": [],
   "execution_count": 11
  },
  {
   "metadata": {
    "ExecuteTime": {
     "end_time": "2025-04-29T03:40:47.659155Z",
     "start_time": "2025-04-29T03:40:47.657112Z"
    }
   },
   "cell_type": "code",
   "source": [
    "q11 = pd.DataFrame({\n",
    "    'Spanish Word': [\"Yo\", \"hubiera\", \"vivido\", \"en\", \"paz,\", \"pero\", \"mis\", \"enemigos\", \"me\", \"trajeron\", \"la\", \"guerra.\"],\n",
    "    'Mean Score': [9.43, 9.43, 9.14, 9.43, 9.71, 9.57, 9.86, 8.43, 9.86, 9.86, 9.86, 9.86],\n",
    "    'Model Score': [10.0, 9.92, 9.98, 10.0, 10.0, 9.83, 9.99, 10.0, 10.0, 9.99, 10.0, 9.95]\n",
    "})"
   ],
   "id": "9a1355d151b0154c",
   "outputs": [],
   "execution_count": 12
  },
  {
   "metadata": {
    "ExecuteTime": {
     "end_time": "2025-04-29T03:40:47.734697Z",
     "start_time": "2025-04-29T03:40:47.729998Z"
    }
   },
   "cell_type": "code",
   "source": [
    "q12 = pd.DataFrame({\n",
    "    'Spanish Word': [\"¿Sabías?\", \"A\", \"los\", \"caballos\", \"les\", \"gusta\", \"comer\", \"manzanas.\"],\n",
    "    'Mean Score': [9.0, 9.71, 8.86, 7.43, 8.43, 9.29, 9.0, 9.43],\n",
    "    'Model Score': [10.0, 10.0, 10.0, 9.99, 10.0, 10.0, 10.0, 9.99]\n",
    "})"
   ],
   "id": "590a42cd97ebb6bf",
   "outputs": [],
   "execution_count": 13
  },
  {
   "metadata": {
    "ExecuteTime": {
     "end_time": "2025-04-29T03:40:47.800102Z",
     "start_time": "2025-04-29T03:40:47.797913Z"
    }
   },
   "cell_type": "code",
   "source": [
    "q13 = pd.DataFrame({\n",
    "    'Spanish Word': [\"Hoy\", \"le\", \"lancé\", \"una\", \"bola\", \"de\", \"nieve\", \"a\", \"mi\", \"perro.\", \"Ella\", \"trató\", \"de\", \"comerla.\"],\n",
    "    'Mean Score': [9.43, 9.43, 8.86, 8.57, 9.29, 9.86, 9.86, 9.57, 9.86, 8.57, 9.86, 9.86, 7.0, 9.71],\n",
    "    'Model Score': [10.0, 10.0, 9.99, 10.0, 9.98, 10.0, 10.0, 10.0, 10.0, 10.0, 10.0, 10.0, 10.0, 7.81]\n",
    "})"
   ],
   "id": "2e44568b24564e9e",
   "outputs": [],
   "execution_count": 14
  },
  {
   "metadata": {
    "ExecuteTime": {
     "end_time": "2025-04-29T03:40:47.870066Z",
     "start_time": "2025-04-29T03:40:47.867948Z"
    }
   },
   "cell_type": "code",
   "source": [
    "q14 = pd.DataFrame({\n",
    "    'Spanish Word': [\"Estoy\", \"aquí\", \"comiendo\", \"helado\", \"y\", \"recordando\", \"porque\", \"no\", \"puedo\", \"adivinar\", \"la\", \"última\", \"pregunta\", \"de\", \"mi\", \"examen.\"],\n",
    "    'Mean Score': [9.57, 9.43, 8.0, 9.0, 9.14, 8.86, 9.43, 9.29, 8.71, 9.57, 8.86, 8.71, 8.86, 9.43, 8.14, 8.71],\n",
    "    'Model Score': [10.0, 10.0, 9.99, 10.0, 10.0, 10.0, 10.0, 10.0, 10.0, 9.81, 10.0, 10.0, 9.98, 10.0, 10.0, 9.98]\n",
    "})"
   ],
   "id": "b98de0013ddff981",
   "outputs": [],
   "execution_count": 15
  },
  {
   "metadata": {
    "ExecuteTime": {
     "end_time": "2025-04-29T03:40:47.941920Z",
     "start_time": "2025-04-29T03:40:47.939718Z"
    }
   },
   "cell_type": "code",
   "source": [
    "q15 = pd.DataFrame({\n",
    "    'Spanish Word': [\"Creo\", \"que\", \"yo\", \"era\", \"alérgico\", \"al\", \"metal\", \"de\", \"los\", \"pendientes\", \"originales\", \"por\", \"lo\", \"que\", \"no\", \"se\", \"curaron\", \"por\", \"completo.\"],\n",
    "    'Mean Score': [9.71, 9.71, 9.29, 9.29, 8.14, 9.29, 9.29, 9.71, 8.71, 9.71, 9.71, 9.71, 9.57, 9.0, 9.43, 7.29, 9.71, 9.43, 9.71],\n",
    "    'Model Score': [10.0, 10.0, 10.0, 7.6, 10.0, 1.04, 0.56, 4.47, 10.0, 8.58, 5.93, 5.97, 9.97, 0.54, 5.34, 9.86, 9.06, 8.26, 8.93]\n",
    "})"
   ],
   "id": "8453c9aef4e13827",
   "outputs": [],
   "execution_count": 16
  },
  {
   "metadata": {
    "ExecuteTime": {
     "end_time": "2025-04-29T03:40:48.012608Z",
     "start_time": "2025-04-29T03:40:48.010229Z"
    }
   },
   "cell_type": "code",
   "source": [
    "q16 = pd.DataFrame({\n",
    "    'Spanish Word': [\"Mi\", \"compañero\", \"de\", \"laboratorio\", \"quiere\", \"atacar\", \"el\", \"proyecto\", \"mañana.\"],\n",
    "    'Mean Score': [9.71, 9.71, 9.71, 9.43, 9.14, 8.71, 9.0, 8.14, 7.86],\n",
    "    'Model Score': [10.0, 10.0, 10.0, 10.0, 10.0, 10.0, 10.0, 10.0, 10.0]\n",
    "})"
   ],
   "id": "da174eb1d25afcb4",
   "outputs": [],
   "execution_count": 17
  },
  {
   "metadata": {
    "ExecuteTime": {
     "end_time": "2025-04-29T03:40:48.082034Z",
     "start_time": "2025-04-29T03:40:48.079846Z"
    }
   },
   "cell_type": "code",
   "source": [
    "q17 = pd.DataFrame({\n",
    "    'Spanish Word': [\"Me\", \"gustan\", \"las\", \"galletas\", \"pero\", \"también\", \"no\", \"soy\", \"muy\", \"aficionado\", \"a\", \"los\", \"dulces.\"],\n",
    "    'Mean Score': [9.0, 8.86, 9.29, 9.29, 8.86, 9.29, 9.14, 9.0, 8.57, 9.57, 8.71, 9.57, 9.43],\n",
    "    'Model Score': [10.0, 10.0, 10.0, 10.0, 9.45, 10.0, 6.66, 9.76, 10.0, 10.0, 10.0, 10.0, 9.98]\n",
    "})"
   ],
   "id": "bcca4deb8e16649f",
   "outputs": [],
   "execution_count": 18
  },
  {
   "metadata": {
    "ExecuteTime": {
     "end_time": "2025-04-29T03:40:48.162657Z",
     "start_time": "2025-04-29T03:40:48.160140Z"
    }
   },
   "cell_type": "code",
   "source": [
    "q18 = pd.DataFrame({\n",
    "    'Spanish Word': [\"He\", \"estado\", \"enfermo\", \"durante\", \"todo\", \"el\", \"mes,\", \"pero\", \"ahora\", \"me\", \"estoy\", \"mejorando.\"],\n",
    "    'Mean Score': [8.86, 5.71, 9.14, 9.43, 8.14, 8.43, 8.43, 7.57, 7.43, 8.29, 8.14, 7.71],\n",
    "    'Model Score': [10.0, 10.0, 10.0, 10.0, 9.08, 9.75, 10.0, 9.37, 10.0, 8.86, 7.91, 10.0]\n",
    "})"
   ],
   "id": "3c65b9d247f0fe6d",
   "outputs": [],
   "execution_count": 19
  },
  {
   "metadata": {
    "ExecuteTime": {
     "end_time": "2025-04-29T03:40:48.235014Z",
     "start_time": "2025-04-29T03:40:48.232955Z"
    }
   },
   "cell_type": "code",
   "source": [
    "q19 = pd.DataFrame({\n",
    "    'Spanish Word': [\"Estaré\", \"allí\", \"dentro\", \"de\", \"poco,\", \"los\", \"dulces\", \"tienen\", \"tres\", \"minutos\", \"en\", \"el\", \"horno.\"],\n",
    "    'Mean Score': [8.57, 8.86, 9.29, 6.43, 7.86, 8.43, 7.71, 9.57, 9.29, 9.0, 9.29, 6.0, 6.71],\n",
    "    'Model Score': [10.0, 10.0, 9.92, 9.84, 5.58, 5.52, 10.0, 7.93, 10.0, 10.0, 6.07, 10.0, 0.16]\n",
    "})"
   ],
   "id": "76b2a4e6312a6578",
   "outputs": [],
   "execution_count": 20
  },
  {
   "metadata": {
    "ExecuteTime": {
     "end_time": "2025-04-29T03:40:48.310248Z",
     "start_time": "2025-04-29T03:40:48.308225Z"
    }
   },
   "cell_type": "code",
   "source": [
    "q20 = pd.DataFrame({\n",
    "    'Spanish Word': [\"Aprendió\", \"a\", \"no\", \"poner\", \"puntos\", \"al\", \"final\", \"de\", \"sus\", \"frases\"],\n",
    "    'Mean Score': [8.57, 8.14, 7.43, 9.0, 5.57, 7.71, 7.14, 9.14, 9.14, 9.57],\n",
    "    'Model Score': [10.0, 10.0, 10.0, 10.0, 10.0, 9.97, 10.0, 10.0, 10.0, 9.98]\n",
    "})"
   ],
   "id": "86c625d0fd1c90fe",
   "outputs": [],
   "execution_count": 21
  },
  {
   "metadata": {
    "ExecuteTime": {
     "end_time": "2025-04-29T03:40:48.370707Z",
     "start_time": "2025-04-29T03:40:48.368500Z"
    }
   },
   "cell_type": "code",
   "source": [
    "q21 = pd.DataFrame({\n",
    "    'Spanish Word': [\"Este\", \"es\", \"un\", \"plan\", \"delicioso\", \"pero\", \"¿qué\", \"estás\", \"haciendo\", \"a\", \"esta\", \"hora\", \"en\", \"una\", \"noche\", \"de\", \"clases?\"],\n",
    "    'Mean Score': [9.57, 9.57, 9.43, 8.86, 5.71, 9.57, 9.14, 9.57, 9.57, 8.0, 8.71, 9.57, 9.57, 8.43, 9.43, 8.71, 8.14],\n",
    "    'Model Score': [10.0, 10.0, 10.0, 10.0, 9.9, 9.25, 9.62, 10.0, 10.0, 10.0, 9.86, 10.0, 10.0, 10.0, 9.97, 10.0, 10.0]\n",
    "})"
   ],
   "id": "c65b896a07893e9e",
   "outputs": [],
   "execution_count": 22
  },
  {
   "metadata": {
    "ExecuteTime": {
     "end_time": "2025-04-29T03:40:48.432993Z",
     "start_time": "2025-04-29T03:40:48.430506Z"
    }
   },
   "cell_type": "code",
   "source": [
    "q22 = pd.DataFrame({\n",
    "    'Spanish Word': [\"Parece\", \"que\", \"no\", \"hay\", \"escasez\", \"de\", \"horas\", \"ni\", \"de\", \"teatros\", \"a\", \"los\", \"que\", \"a\", \"ver\", \"la\", \"película.\"],\n",
    "    'Mean Score': [8.43, 9.57, 9.57, 8.43, 7.57, 8.29, 7.43, 8.29, 8.0, 8.14, 7.14, 7.14, 7.43, 7.71, 8.57, 8.57, 8.86],\n",
    "    'Model Score': [10.0, 10.0, 9.98, 9.96, 10.0, 10.0, 10.0, 10.0, 9.44, 10.0, 9.99, 10.0, 9.99, 10.0, 10.0, 10.0, 10.0]\n",
    "})"
   ],
   "id": "1ca19dfec7d909ff",
   "outputs": [],
   "execution_count": 23
  },
  {
   "metadata": {
    "ExecuteTime": {
     "end_time": "2025-04-29T03:40:48.498894Z",
     "start_time": "2025-04-29T03:40:48.496906Z"
    }
   },
   "cell_type": "code",
   "source": [
    "q23 = pd.DataFrame({\n",
    "    'Spanish Word': [\"Nunca\", \"he\", \"hecho\", \"una\", \"sopa\", \"antes.\"],\n",
    "    'Mean Score': [9.29, 6.43, 7.86, 8.14, 8.43, 7.71],\n",
    "    'Model Score': [10.0, 10.0, 9.99, 10.0, 8.54, 9.63]\n",
    "})"
   ],
   "id": "72b22aa25f22714b",
   "outputs": [],
   "execution_count": 24
  },
  {
   "metadata": {
    "ExecuteTime": {
     "end_time": "2025-04-29T03:40:48.570064Z",
     "start_time": "2025-04-29T03:40:48.568113Z"
    }
   },
   "cell_type": "code",
   "source": [
    "q24 = pd.DataFrame({\n",
    "    'Spanish Word': [\"El\", \"perro\", \"pequeño\", \"me\", \"robó\", \"los\", \"calcetines\", \"y\", \"se\", \"rió\", \"de\", \"mí\", \"cuando\", \"los\", \"devolví.\"],\n",
    "    'Mean Score': [9.57, 9.14, 9.29, 8.86, 9.0, 9.43, 9.29, 9.29, 6.43, 6.0, 6.0, 6.71, 8.57, 8.14, 7.43],\n",
    "    'Model Score': [10.0, 10.0, 10.0, 9.96, 9.97, 10.0, 10.0, 10.0, 10.0, 9.99, 9.95, 10.0, 10.0, 10.0, 10.0]\n",
    "})"
   ],
   "id": "fe6eff10eb694274",
   "outputs": [],
   "execution_count": 25
  },
  {
   "metadata": {
    "ExecuteTime": {
     "end_time": "2025-04-29T03:40:48.645926Z",
     "start_time": "2025-04-29T03:40:48.643214Z"
    }
   },
   "cell_type": "code",
   "source": [
    "q25 = pd.DataFrame({\n",
    "    'Spanish Word': [\"¿Vas\", \"a\", \"almorzar\", \"almuerzo\", \"picnic\", \"al\", \"parque?\"],\n",
    "    'Mean Score': [9.0, 9.29, 5.57, 7.71, 7.14, 9.14, 9.14],\n",
    "    'Model Score': [10.0, 10.0, 10.0, 10.0, 9.26, 10.0, 10.0]\n",
    "})"
   ],
   "id": "363dc57f3a9defe2",
   "outputs": [],
   "execution_count": 26
  },
  {
   "metadata": {
    "ExecuteTime": {
     "end_time": "2025-04-29T03:40:48.730177Z",
     "start_time": "2025-04-29T03:40:48.728144Z"
    }
   },
   "cell_type": "code",
   "source": [
    "q26 = pd.DataFrame({\n",
    "    'Spanish Word': [\"Él\", \"estaba\", \"agradecido\", \"por\", \"el\", \"peso\", \"y\", \"la\", \"calentura\", \"de\", \"la\", \"chaqueta.\"],\n",
    "    'Mean Score': [9.14, 9.57, 9.0, 9.86, 9.86, 9.86, 9.29, 9.86, 8.43, 9.86, 9.86, 9.57],\n",
    "    'Model Score': [10.0, 10.0, 9.87, 10.0, 9.97, 10.0, 10.0, 10.0, 9.44, 10.0, 10.0, 10.0]\n",
    "})"
   ],
   "id": "703b0a65c9d0c739",
   "outputs": [],
   "execution_count": 27
  },
  {
   "metadata": {
    "ExecuteTime": {
     "end_time": "2025-04-29T03:40:48.798901Z",
     "start_time": "2025-04-29T03:40:48.797109Z"
    }
   },
   "cell_type": "code",
   "source": "questions = [q1, q2, q3, q4, q5, q6, q7, q8, q9, q10, q11, q12, q13, q14, q15, q16, q17, q18, q19, q20, q21, q22, q23, q24, q25, q26]",
   "id": "f7d812e3f873c88b",
   "outputs": [],
   "execution_count": 28
  },
  {
   "metadata": {
    "ExecuteTime": {
     "end_time": "2025-04-29T03:40:48.885890Z",
     "start_time": "2025-04-29T03:40:48.878307Z"
    }
   },
   "cell_type": "code",
   "source": [
    "total_error = 0.0\n",
    "num = 0\n",
    "correct = 0\n",
    "for df in questions:\n",
    "    for _, row in df.iterrows():\n",
    "        num += 1\n",
    "        total_error += abs(row['Mean Score'] - row['Model Score'])\n",
    "        if abs(row['Mean Score'] - row['Model Score']) <= 0.5:\n",
    "            correct += 1"
   ],
   "id": "438b77ab567c519a",
   "outputs": [],
   "execution_count": 29
  },
  {
   "metadata": {
    "ExecuteTime": {
     "end_time": "2025-04-29T03:40:48.964128Z",
     "start_time": "2025-04-29T03:40:48.959551Z"
    }
   },
   "cell_type": "code",
   "source": [
    "average_err = total_error / num\n",
    "average_err"
   ],
   "id": "ab6b896de09c3e56",
   "outputs": [
    {
     "data": {
      "text/plain": [
       "1.4078867924528302"
      ]
     },
     "execution_count": 30,
     "metadata": {},
     "output_type": "execute_result"
    }
   ],
   "execution_count": 30
  },
  {
   "metadata": {
    "ExecuteTime": {
     "end_time": "2025-04-29T03:40:49.047547Z",
     "start_time": "2025-04-29T03:40:49.045470Z"
    }
   },
   "cell_type": "code",
   "source": [
    "acc = correct / num\n",
    "acc"
   ],
   "id": "b3fbf952945c36fa",
   "outputs": [
    {
     "data": {
      "text/plain": [
       "0.23018867924528302"
      ]
     },
     "execution_count": 31,
     "metadata": {},
     "output_type": "execute_result"
    }
   ],
   "execution_count": 31
  },
  {
   "metadata": {
    "ExecuteTime": {
     "end_time": "2025-04-29T03:40:49.374448Z",
     "start_time": "2025-04-29T03:40:49.129821Z"
    }
   },
   "cell_type": "code",
   "source": "print(q26.to_latex())",
   "id": "ea4cfafd0ae72bd8",
   "outputs": [
    {
     "name": "stdout",
     "output_type": "stream",
     "text": [
      "\\begin{tabular}{llrr}\n",
      "\\toprule\n",
      " & Spanish Word & Mean Score & Model Score \\\\\n",
      "\\midrule\n",
      "0 & Él & 9.140000 & 10.000000 \\\\\n",
      "1 & estaba & 9.570000 & 10.000000 \\\\\n",
      "2 & agradecido & 9.000000 & 9.870000 \\\\\n",
      "3 & por & 9.860000 & 10.000000 \\\\\n",
      "4 & el & 9.860000 & 9.970000 \\\\\n",
      "5 & peso & 9.860000 & 10.000000 \\\\\n",
      "6 & y & 9.290000 & 10.000000 \\\\\n",
      "7 & la & 9.860000 & 10.000000 \\\\\n",
      "8 & calentura & 8.430000 & 9.440000 \\\\\n",
      "9 & de & 9.860000 & 10.000000 \\\\\n",
      "10 & la & 9.860000 & 10.000000 \\\\\n",
      "11 & chaqueta. & 9.570000 & 10.000000 \\\\\n",
      "\\bottomrule\n",
      "\\end{tabular}\n",
      "\n"
     ]
    }
   ],
   "execution_count": 32
  }
 ],
 "metadata": {
  "kernelspec": {
   "display_name": "Python 3",
   "language": "python",
   "name": "python3"
  },
  "language_info": {
   "codemirror_mode": {
    "name": "ipython",
    "version": 2
   },
   "file_extension": ".py",
   "mimetype": "text/x-python",
   "name": "python",
   "nbconvert_exporter": "python",
   "pygments_lexer": "ipython2",
   "version": "2.7.6"
  }
 },
 "nbformat": 4,
 "nbformat_minor": 5
}
