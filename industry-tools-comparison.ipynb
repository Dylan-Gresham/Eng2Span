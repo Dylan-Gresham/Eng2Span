{
 "cells": [
  {
   "cell_type": "code",
   "id": "initial_id",
   "metadata": {
    "collapsed": true,
    "ExecuteTime": {
     "end_time": "2025-04-29T04:30:34.211471Z",
     "start_time": "2025-04-29T04:30:33.803730Z"
    }
   },
   "source": [
    "import pandas as pd\n",
    "\n",
    "comparisons = pd.DataFrame({\n",
    "    \"English\": [\n",
    "        \"Hello, world!\",\n",
    "        \"Hey, how's it going?\",\n",
    "        \"What're you doing tonight?\",\n",
    "        \"Your dog is cute, what's its name?\",\n",
    "        \"Always drink coffee in the morning so you don't get tired during the day.\",\n",
    "        \"We don't know Spanish very well, thank you for your help!\",\n",
    "        \"I'm booking a tee time for us this weekend.\",\n",
    "        \"She saw the man with the telescope.\",\n",
    "        \"That's cringe bro.\",\n",
    "        \"May the force be with you.\",\n",
    "        \"I would have lived in peace. But my enemies brought me war.\",\n",
    "        \"Did you know? Horses like to eat apples.\",\n",
    "        \"I threw a snowball at my dog today. She tried to eat it.\",\n",
    "        \"I'm over here eating ice cream and reminiscing because I can't figure out the last question on my exam.\",\n",
    "        \"I think I was allergic to the metal in the original earrings so they never quite healed all the way.\",\n",
    "        \"My lab teammate wants to attack the project tomorrow.\",\n",
    "        \"I like cookies, but also I'm not too big on sweets.\",\n",
    "        \"I have been sick for like the whole month, but I'm getting better now.\",\n",
    "        \"I'll be there shortly, the treats have three minutes left in the oven.\",\n",
    "        \"He learned how to not put periods at the end of his sentences.\",\n",
    "        \"This is a delightful plan but what are you doing up at this hour on a school night?\",\n",
    "        \"It looks like there is no shortage of times or theaters to go to watch the movie at.\",\n",
    "        \"I've never made a soup before.\",\n",
    "        \"The little dog stole my socks and growled at me when I took them back.\",\n",
    "        \"Are you going to take a picnic lunch to the park?\",\n",
    "        \"He was grateful for the jacket's weight and warmth.\"\n",
    "    ],\n",
    "    \"Our Model\": [\n",
    "        \"¡Hola, mundo!\",\n",
    "        \"Hey ¿cómo va?\",\n",
    "        \"¿Qué estás haciendo esta noche?\",\n",
    "        \"Tu perro es guapo ¿cómo se llama?\",\n",
    "        \"Bebe siempre café por la mañana para no cansare durante el día.\",\n",
    "        \"No sabemos muy bien español ¡gracias por tu ayuda!\",\n",
    "        \"Estoy reservando una hora de té para este fin de semana.\",\n",
    "        \"Ella vio al hombre con el anteojo.\",\n",
    "        \"Eso es repugnante bro.\",\n",
    "        \"Que la fuerza esté contigo.\",\n",
    "        \"Yo hubiera vivido en paz, pero mis enemigos me trajeron la guerra.\",\n",
    "        \"¿Sabías? A los caballos les gusta comer manzanas.\",\n",
    "        \"Hoy le lancé una bola de nieve a mi perro. Ella trató de comerla.\",\n",
    "        \"Estoy aquí comiendo helado y recordando porque no puedo adivinar la última pregunta de mi examen.\",\n",
    "        \"Creo que yo era alérgico al metal de los pendientes originales por lo que no se curaron por completo.\",\n",
    "        \"Mi compañero de laboratorio quiere atacar el proyecto mañana.\",\n",
    "        \"Me gustan las galletas pero también no soy muy aficionado a los dulces.\",\n",
    "        \"He estado enfermo durante todo el mes, pero ahora me estoy mejorando.\",\n",
    "        \"Estaré allí dentro de poco, los dulces tienen tres minutos en el horno.\",\n",
    "        \"Aprendió a no poner puntos al final de sus frases.\",\n",
    "        \"Este es un plan delicioso pero ¿qué estás haciendo a esta hora en una noche de clases?\",\n",
    "        \"Parece que no hay escasez de horas ni de teatros a los que a ver la película.\",\n",
    "        \"Nunca he heco una sopa antes.\",\n",
    "        \"El perro pequeño me robó los calcetines y se rió de mí cuando los devolví.\",\n",
    "        \"¿Vas a almorzar almuerzo picnic al parque?\",\n",
    "        \"Él estaba agradecido por el peso y la calentura de la chaqueta.\",\n",
    "    ],\n",
    "    \"Google Translate\": [\n",
    "        \"¡Hola Mundo!\",\n",
    "        \"Hola, ¿cómo estás?\",\n",
    "        \"¿Qué harás esta noche?\",\n",
    "        \"Tu perro es lindo ¿cómo se llama?\",\n",
    "        \"Bebe siempre café por la mañana para no cansarte durante el día.\",\n",
    "        \"No sabemos muy bien español, ¡gracias por tu ayuda!\",\n",
    "        \"Estoy reservando una hora de salida para nosotros este fin de semana.\",\n",
    "        \"Ella vio al hombre con el telescopio.\",\n",
    "        \"Eso es vergonzoso, hermano.\",\n",
    "        \"Que la fuerza te acompañe.\",\n",
    "        \"Habría vivido en paz. Pero mis enemigos me trajeron la guerra.\",\n",
    "        \"¿Sabías que a los caballos les gusta comer manzanas?\",\n",
    "        \"Hoy le tiré una bola de nieve a mi perra. Intentó comérsela.\",\n",
    "        \"Estoy aquí comiendo helado y recordando porque no puedo resolver la última pregunta de mi examen.\",\n",
    "        \"Creo que era alérgico al metal de los pendientes originales, por lo que nunca sanaron por completo.\",\n",
    "        \"Mi compañero de laboratorio quiere atacar el proyecto mañana.\",\n",
    "        \"Me gustan las galletas, pero tampoco soy muy amante de los dulces.\",\n",
    "        \"He estado enfermo durante todo el mes, pero ahora estoy mejorando.\",\n",
    "        \"Estaré allí en breve, a las golosinas les quedan tres minutos en el horno.\",\n",
    "        \"Aprendió a no poner puntos al final de sus frases.\",\n",
    "        \"Es un plan muy bonito pero ¿qué haces despierto a estas horas en una noche de colegio?\",\n",
    "        \"Parece que no faltan horarios ni salas para ir a ver la película.\",\n",
    "        \"Nunca he hecho una sopa antes.\",\n",
    "        \"El perrito me robó mis calcetines y me gruñó cuando los recuperé.\",\n",
    "        \"¿Vas a llevar un almuerzo tipo picnic al parque?\",\n",
    "        \"Estuvo agradecido por el peso y la calidez de la chaqueta.\"\n",
    "    ],\n",
    "    \"Microsoft Translator\": [\n",
    "        \"¡Hola mundo!\",\n",
    "        \"Oye, ¿cómo te va?\",\n",
    "        \"¿Qué vas a hacer esta noche?\",\n",
    "        \"Tu perro es lindo, ¿cómo se llama?\",\n",
    "        \"Siempre toma café por la mañana para que no te canses durante el día.\",\n",
    "        \"No sabemos muy bien el español, ¡gracias por tu ayuda!\",\n",
    "        \"Estoy reservando una hora de salida para nosotros este fin de semana.\",\n",
    "        \"Vio al hombre del telescopio.\",\n",
    "        \"Eso es vergüenza, hermano.\",\n",
    "        \"Que la fuerza te acompañe.\",\n",
    "        \"Habría vivido en paz. Pero mis enemigos me trajeron la guerra.\",\n",
    "        \"¿Sabías que...? A los caballos les gusta comer manzanas.\",\n",
    "        \"Hoy le lancé una bola de nieve a mi perro. Trató de comérselo.\",\n",
    "        \"Estoy aquí comiendo helado y recordando porque no puedo entender la última pregunta de mi examen.\",\n",
    "        \"Creo que era alérgica al metal de los pendientes originales, por lo que nunca se curaron del todo.\",\n",
    "        \"Mi compañero de equipo de laboratorio quiere atacar el proyecto mañana.\",\n",
    "        \"Me gustan las galletas, pero también no me gustan mucho los dulces.\",\n",
    "        \"He estado enfermo durante todo el mes, pero ahora estoy mejorando.\",\n",
    "        \"Estaré allí en breve, a las golosinas les quedan tres minutos en el horno.\",\n",
    "        \"Aprendió a no poner puntos al final de sus frases.\",\n",
    "        \"Este es un plan encantador, pero ¿qué estás haciendo a esta hora en una noche de escuela?\",\n",
    "        \"Parece que no faltan horarios ni cines para ir a ver la película.\",\n",
    "        \"Nunca antes había hecho una sopa.\",\n",
    "        \"El perrito me robó los calcetines y me gruñó cuando se los quité.\",\n",
    "        \"¿Vas a llevar un almuerzo tipo picnic al parque?\",\n",
    "        \"Estaba agradecido por el peso y la calidez de la chaqueta.\"\n",
    "    ],\n",
    "})"
   ],
   "outputs": [],
   "execution_count": 1
  },
  {
   "metadata": {
    "ExecuteTime": {
     "end_time": "2025-04-29T04:33:04.510245Z",
     "start_time": "2025-04-29T04:32:54.029505Z"
    }
   },
   "cell_type": "code",
   "source": [
    "import evaluate\n",
    "\n",
    "bleu = evaluate.load(\"bleu\")\n",
    "meteor = evaluate.load(\"meteor\")\n",
    "rouge = evaluate.load(\"rouge\")\n",
    "ter = evaluate.load(\"ter\")"
   ],
   "id": "5c0685dabf167e3b",
   "outputs": [
    {
     "data": {
      "text/plain": [
       "Downloading builder script:   0%|          | 0.00/5.94k [00:00<?, ?B/s]"
      ],
      "application/vnd.jupyter.widget-view+json": {
       "version_major": 2,
       "version_minor": 0,
       "model_id": "8e1b26ef0a924fd08214b983c4e0fea4"
      }
     },
     "metadata": {},
     "output_type": "display_data"
    },
    {
     "data": {
      "text/plain": [
       "Downloading extra modules:   0%|          | 0.00/1.55k [00:00<?, ?B/s]"
      ],
      "application/vnd.jupyter.widget-view+json": {
       "version_major": 2,
       "version_minor": 0,
       "model_id": "6bfa0ca1d7894b4c9c10e3d2da78c0b3"
      }
     },
     "metadata": {},
     "output_type": "display_data"
    },
    {
     "data": {
      "text/plain": [
       "Downloading extra modules:   0%|          | 0.00/3.34k [00:00<?, ?B/s]"
      ],
      "application/vnd.jupyter.widget-view+json": {
       "version_major": 2,
       "version_minor": 0,
       "model_id": "d5b02cb197f24afdbd0752ea7cbd4175"
      }
     },
     "metadata": {},
     "output_type": "display_data"
    },
    {
     "data": {
      "text/plain": [
       "Downloading builder script:   0%|          | 0.00/7.02k [00:00<?, ?B/s]"
      ],
      "application/vnd.jupyter.widget-view+json": {
       "version_major": 2,
       "version_minor": 0,
       "model_id": "668500080b79414780c086b6e1ba5e1a"
      }
     },
     "metadata": {},
     "output_type": "display_data"
    },
    {
     "name": "stderr",
     "output_type": "stream",
     "text": [
      "[nltk_data] Downloading package wordnet to /home/midge/nltk_data...\n",
      "[nltk_data]   Package wordnet is already up-to-date!\n",
      "[nltk_data] Downloading package punkt_tab to /home/midge/nltk_data...\n",
      "[nltk_data]   Unzipping tokenizers/punkt_tab.zip.\n",
      "[nltk_data] Downloading package omw-1.4 to /home/midge/nltk_data...\n",
      "[nltk_data]   Package omw-1.4 is already up-to-date!\n"
     ]
    },
    {
     "data": {
      "text/plain": [
       "Downloading builder script:   0%|          | 0.00/6.27k [00:00<?, ?B/s]"
      ],
      "application/vnd.jupyter.widget-view+json": {
       "version_major": 2,
       "version_minor": 0,
       "model_id": "d31649574ebd4115a1d4f076027666b3"
      }
     },
     "metadata": {},
     "output_type": "display_data"
    },
    {
     "data": {
      "text/plain": [
       "Downloading builder script:   0%|          | 0.00/9.99k [00:00<?, ?B/s]"
      ],
      "application/vnd.jupyter.widget-view+json": {
       "version_major": 2,
       "version_minor": 0,
       "model_id": "1be02b69d47e4f2897a63b86ff6883c0"
      }
     },
     "metadata": {},
     "output_type": "display_data"
    }
   ],
   "execution_count": 2
  },
  {
   "metadata": {
    "ExecuteTime": {
     "end_time": "2025-04-29T04:33:55.256930Z",
     "start_time": "2025-04-29T04:33:55.251486Z"
    }
   },
   "cell_type": "code",
   "source": [
    "results = pd.DataFrame(\n",
    "    columns=[\"BLEU\", \"METEOR\", \"ROUGE\", \"TER\"],\n",
    "    index=[],\n",
    ")"
   ],
   "id": "582da0c9a3e5655c",
   "outputs": [],
   "execution_count": 3
  },
  {
   "metadata": {
    "ExecuteTime": {
     "end_time": "2025-04-29T04:44:14.699188Z",
     "start_time": "2025-04-29T04:44:12.887349Z"
    }
   },
   "cell_type": "code",
   "source": [
    "preds = comparisons[\"Our Model\"]\n",
    "refs = comparisons[\"Google Translate\"]\n",
    "\n",
    "bleu_result = bleu.compute(predictions=preds, references=refs)[\"bleu\"]\n",
    "meteor_result = meteor.compute(predictions=preds, references=refs)[\n",
    "    \"meteor\"\n",
    "]\n",
    "rouge_result = rouge.compute(predictions=preds, references=refs)[\n",
    "    \"rougeL\"\n",
    "]\n",
    "ter_result = ter.compute(predictions=preds, references=refs)[\"score\"]\n",
    "results.loc[\"Our Model vs Google Translate\"] = {\n",
    "    \"BLEU\": bleu_result,\n",
    "    \"METEOR\": meteor_result,\n",
    "    \"ROUGE\": rouge_result,\n",
    "    \"TER\": ter_result,\n",
    "}"
   ],
   "id": "59795f4f16788b0f",
   "outputs": [],
   "execution_count": 4
  },
  {
   "metadata": {
    "ExecuteTime": {
     "end_time": "2025-04-29T04:44:19.638163Z",
     "start_time": "2025-04-29T04:44:19.546402Z"
    }
   },
   "cell_type": "code",
   "source": [
    "preds = comparisons[\"Our Model\"]\n",
    "refs = comparisons[\"Microsoft Translator\"]\n",
    "\n",
    "bleu_result = bleu.compute(predictions=preds, references=refs)[\"bleu\"]\n",
    "meteor_result = meteor.compute(predictions=preds, references=refs)[\n",
    "    \"meteor\"\n",
    "]\n",
    "rouge_result = rouge.compute(predictions=preds, references=refs)[\n",
    "    \"rougeL\"\n",
    "]\n",
    "ter_result = ter.compute(predictions=preds, references=refs)[\"score\"]\n",
    "results.loc[\"Our Model vs Microsoft Translator\"] = {\n",
    "    \"BLEU\": bleu_result,\n",
    "    \"METEOR\": meteor_result,\n",
    "    \"ROUGE\": rouge_result,\n",
    "    \"TER\": ter_result,\n",
    "}"
   ],
   "id": "dba9d8657bada0bb",
   "outputs": [],
   "execution_count": 5
  },
  {
   "metadata": {
    "ExecuteTime": {
     "end_time": "2025-04-29T04:44:20.708454Z",
     "start_time": "2025-04-29T04:44:20.611696Z"
    }
   },
   "cell_type": "code",
   "source": [
    "preds = comparisons[\"Microsoft Translator\"]\n",
    "refs = comparisons[\"Google Translate\"]\n",
    "\n",
    "bleu_result = bleu.compute(predictions=preds, references=refs)[\"bleu\"]\n",
    "meteor_result = meteor.compute(predictions=preds, references=refs)[\n",
    "    \"meteor\"\n",
    "]\n",
    "rouge_result = rouge.compute(predictions=preds, references=refs)[\n",
    "    \"rougeL\"\n",
    "]\n",
    "ter_result = ter.compute(predictions=preds, references=refs)[\"score\"]\n",
    "results.loc[\"Microsoft Translator vs Google Translate\"] = {\n",
    "    \"BLEU\": bleu_result,\n",
    "    \"METEOR\": meteor_result,\n",
    "    \"ROUGE\": rouge_result,\n",
    "    \"TER\": ter_result,\n",
    "}"
   ],
   "id": "48b957571ac3a5c",
   "outputs": [],
   "execution_count": 6
  },
  {
   "metadata": {
    "ExecuteTime": {
     "end_time": "2025-04-29T04:44:23.296107Z",
     "start_time": "2025-04-29T04:44:22.796893Z"
    }
   },
   "cell_type": "code",
   "source": "print(results.to_latex())",
   "id": "29dd7a83f2b700fb",
   "outputs": [
    {
     "name": "stdout",
     "output_type": "stream",
     "text": [
      "\\begin{tabular}{lrrrr}\n",
      "\\toprule\n",
      " & BLEU & METEOR & ROUGE & TER \\\\\n",
      "\\midrule\n",
      "Our Model vs Google Translate & 0.517850 & 0.757513 & 0.772373 & 30.708661 \\\\\n",
      "Our Model vs Microsoft Translator & 0.531258 & 0.735156 & 0.757298 & 30.798479 \\\\\n",
      "Microsoft Translator vs Google Translate & 0.658967 & 0.862579 & 0.835353 & 21.259843 \\\\\n",
      "\\bottomrule\n",
      "\\end{tabular}\n",
      "\n"
     ]
    }
   ],
   "execution_count": 7
  }
 ],
 "metadata": {
  "kernelspec": {
   "display_name": "Python 3",
   "language": "python",
   "name": "python3"
  },
  "language_info": {
   "codemirror_mode": {
    "name": "ipython",
    "version": 2
   },
   "file_extension": ".py",
   "mimetype": "text/x-python",
   "name": "python",
   "nbconvert_exporter": "python",
   "pygments_lexer": "ipython2",
   "version": "2.7.6"
  }
 },
 "nbformat": 4,
 "nbformat_minor": 5
}
